{
 "cells": [
  {
   "cell_type": "code",
   "execution_count": 1,
   "metadata": {
    "collapsed": true
   },
   "outputs": [],
   "source": [
    "% matplotlib inline\n",
    "\n",
    "import numpy as np\n",
    "import pandas as pd\n",
    "import matplotlib"
   ]
  },
  {
   "cell_type": "code",
   "execution_count": 2,
   "metadata": {
    "collapsed": true
   },
   "outputs": [],
   "source": [
    "matplotlib.rcParams['figure.figsize'] = 12, 6"
   ]
  },
  {
   "cell_type": "code",
   "execution_count": 3,
   "metadata": {
    "collapsed": true
   },
   "outputs": [],
   "source": [
    "df = pd.read_json(\"results/data-2019-08-22.json\")"
   ]
  },
  {
   "cell_type": "code",
   "execution_count": 4,
   "metadata": {},
   "outputs": [
    {
     "data": {
      "text/html": [
       "<div>\n",
       "<style scoped>\n",
       "    .dataframe tbody tr th:only-of-type {\n",
       "        vertical-align: middle;\n",
       "    }\n",
       "\n",
       "    .dataframe tbody tr th {\n",
       "        vertical-align: top;\n",
       "    }\n",
       "\n",
       "    .dataframe thead th {\n",
       "        text-align: right;\n",
       "    }\n",
       "</style>\n",
       "<table border=\"1\" class=\"dataframe\">\n",
       "  <thead>\n",
       "    <tr style=\"text-align: right;\">\n",
       "      <th></th>\n",
       "      <th>duration</th>\n",
       "      <th>i</th>\n",
       "      <th>ms</th>\n",
       "      <th>name</th>\n",
       "      <th>qps</th>\n",
       "    </tr>\n",
       "  </thead>\n",
       "  <tbody>\n",
       "    <tr>\n",
       "      <th>141697</th>\n",
       "      <td>24165751112</td>\n",
       "      <td>45493.0</td>\n",
       "      <td>4549.300000</td>\n",
       "      <td>create</td>\n",
       "      <td>10000</td>\n",
       "    </tr>\n",
       "    <tr>\n",
       "      <th>175808</th>\n",
       "      <td>19936024016</td>\n",
       "      <td>29603.0</td>\n",
       "      <td>2960.300000</td>\n",
       "      <td>read</td>\n",
       "      <td>10000</td>\n",
       "    </tr>\n",
       "    <tr>\n",
       "      <th>228842</th>\n",
       "      <td>369101311</td>\n",
       "      <td>32636.0</td>\n",
       "      <td>3263.600000</td>\n",
       "      <td>update</td>\n",
       "      <td>10000</td>\n",
       "    </tr>\n",
       "    <tr>\n",
       "      <th>282099</th>\n",
       "      <td>39435999958</td>\n",
       "      <td>35892.0</td>\n",
       "      <td>3589.200000</td>\n",
       "      <td>delete</td>\n",
       "      <td>10000</td>\n",
       "    </tr>\n",
       "    <tr>\n",
       "      <th>148766</th>\n",
       "      <td>8183884962</td>\n",
       "      <td>2561.0</td>\n",
       "      <td>256.100000</td>\n",
       "      <td>read</td>\n",
       "      <td>10000</td>\n",
       "    </tr>\n",
       "    <tr>\n",
       "      <th>35964</th>\n",
       "      <td>5386137513</td>\n",
       "      <td>6424.0</td>\n",
       "      <td>1927.392739</td>\n",
       "      <td>create</td>\n",
       "      <td>3333</td>\n",
       "    </tr>\n",
       "    <tr>\n",
       "      <th>226586</th>\n",
       "      <td>475539523</td>\n",
       "      <td>30380.0</td>\n",
       "      <td>3038.000000</td>\n",
       "      <td>update</td>\n",
       "      <td>10000</td>\n",
       "    </tr>\n",
       "    <tr>\n",
       "      <th>226633</th>\n",
       "      <td>473663151</td>\n",
       "      <td>30427.0</td>\n",
       "      <td>3042.700000</td>\n",
       "      <td>update</td>\n",
       "      <td>10000</td>\n",
       "    </tr>\n",
       "    <tr>\n",
       "      <th>101860</th>\n",
       "      <td>14008878288</td>\n",
       "      <td>5656.0</td>\n",
       "      <td>565.600000</td>\n",
       "      <td>create</td>\n",
       "      <td>10000</td>\n",
       "    </tr>\n",
       "    <tr>\n",
       "      <th>109580</th>\n",
       "      <td>14217610377</td>\n",
       "      <td>13376.0</td>\n",
       "      <td>1337.600000</td>\n",
       "      <td>create</td>\n",
       "      <td>10000</td>\n",
       "    </tr>\n",
       "    <tr>\n",
       "      <th>167430</th>\n",
       "      <td>14260173904</td>\n",
       "      <td>21225.0</td>\n",
       "      <td>2122.500000</td>\n",
       "      <td>read</td>\n",
       "      <td>10000</td>\n",
       "    </tr>\n",
       "    <tr>\n",
       "      <th>79719</th>\n",
       "      <td>5108667411</td>\n",
       "      <td>181.0</td>\n",
       "      <td>54.305431</td>\n",
       "      <td>delete</td>\n",
       "      <td>3333</td>\n",
       "    </tr>\n",
       "    <tr>\n",
       "      <th>192361</th>\n",
       "      <td>33108015456</td>\n",
       "      <td>46156.0</td>\n",
       "      <td>4615.600000</td>\n",
       "      <td>read</td>\n",
       "      <td>10000</td>\n",
       "    </tr>\n",
       "    <tr>\n",
       "      <th>99945</th>\n",
       "      <td>13355626760</td>\n",
       "      <td>3741.0</td>\n",
       "      <td>374.100000</td>\n",
       "      <td>create</td>\n",
       "      <td>10000</td>\n",
       "    </tr>\n",
       "    <tr>\n",
       "      <th>212801</th>\n",
       "      <td>508030742</td>\n",
       "      <td>16595.0</td>\n",
       "      <td>1659.500000</td>\n",
       "      <td>update</td>\n",
       "      <td>10000</td>\n",
       "    </tr>\n",
       "    <tr>\n",
       "      <th>70768</th>\n",
       "      <td>45967530</td>\n",
       "      <td>7896.0</td>\n",
       "      <td>2369.036904</td>\n",
       "      <td>update</td>\n",
       "      <td>3333</td>\n",
       "    </tr>\n",
       "    <tr>\n",
       "      <th>253123</th>\n",
       "      <td>12631601536</td>\n",
       "      <td>6916.0</td>\n",
       "      <td>691.600000</td>\n",
       "      <td>delete</td>\n",
       "      <td>10000</td>\n",
       "    </tr>\n",
       "    <tr>\n",
       "      <th>165530</th>\n",
       "      <td>13220985800</td>\n",
       "      <td>19325.0</td>\n",
       "      <td>1932.500000</td>\n",
       "      <td>read</td>\n",
       "      <td>10000</td>\n",
       "    </tr>\n",
       "    <tr>\n",
       "      <th>40098</th>\n",
       "      <td>5404930997</td>\n",
       "      <td>10558.0</td>\n",
       "      <td>3167.716772</td>\n",
       "      <td>create</td>\n",
       "      <td>3333</td>\n",
       "    </tr>\n",
       "    <tr>\n",
       "      <th>163884</th>\n",
       "      <td>12385388725</td>\n",
       "      <td>17679.0</td>\n",
       "      <td>1767.900000</td>\n",
       "      <td>read</td>\n",
       "      <td>10000</td>\n",
       "    </tr>\n",
       "  </tbody>\n",
       "</table>\n",
       "</div>"
      ],
      "text/plain": [
       "           duration        i           ms    name    qps\n",
       "141697  24165751112  45493.0  4549.300000  create  10000\n",
       "175808  19936024016  29603.0  2960.300000    read  10000\n",
       "228842    369101311  32636.0  3263.600000  update  10000\n",
       "282099  39435999958  35892.0  3589.200000  delete  10000\n",
       "148766   8183884962   2561.0   256.100000    read  10000\n",
       "35964    5386137513   6424.0  1927.392739  create   3333\n",
       "226586    475539523  30380.0  3038.000000  update  10000\n",
       "226633    473663151  30427.0  3042.700000  update  10000\n",
       "101860  14008878288   5656.0   565.600000  create  10000\n",
       "109580  14217610377  13376.0  1337.600000  create  10000\n",
       "167430  14260173904  21225.0  2122.500000    read  10000\n",
       "79719    5108667411    181.0    54.305431  delete   3333\n",
       "192361  33108015456  46156.0  4615.600000    read  10000\n",
       "99945   13355626760   3741.0   374.100000  create  10000\n",
       "212801    508030742  16595.0  1659.500000  update  10000\n",
       "70768      45967530   7896.0  2369.036904  update   3333\n",
       "253123  12631601536   6916.0   691.600000  delete  10000\n",
       "165530  13220985800  19325.0  1932.500000    read  10000\n",
       "40098    5404930997  10558.0  3167.716772  create   3333\n",
       "163884  12385388725  17679.0  1767.900000    read  10000"
      ]
     },
     "execution_count": 4,
     "metadata": {},
     "output_type": "execute_result"
    }
   ],
   "source": [
    "df.sample(n=20, random_state=42)"
   ]
  },
  {
   "cell_type": "code",
   "execution_count": 5,
   "metadata": {},
   "outputs": [
    {
     "data": {
      "text/plain": [
       "<matplotlib.axes._subplots.AxesSubplot at 0x7f0fb4bd27d0>"
      ]
     },
     "execution_count": 5,
     "metadata": {},
     "output_type": "execute_result"
    },
    {
     "data": {
      "image/png": "[encoded data removed]",
      "text/plain": [
       "<matplotlib.figure.Figure at 0x7f0fb58f1710>"
      ]
     },
     "metadata": {},
     "output_type": "display_data"
    }
   ],
   "source": [
    "data = df[~df['name'].str.contains('Map') & (df['ms'] >= 1000) & (df['ms'] <= 4000)].groupby(['name', 'qps'])['duration'].mean().unstack().T\n",
    "data.apply(np.log10).apply(lambda x: x - 9.).plot.bar()"
   ]
  },
  {
   "cell_type": "code",
   "execution_count": 6,
   "metadata": {},
   "outputs": [
    {
     "data": {
      "text/plain": [
       "<matplotlib.axes._subplots.AxesSubplot at 0x7f0faaf47990>"
      ]
     },
     "execution_count": 6,
     "metadata": {},
     "output_type": "execute_result"
    },
    {
     "data": {
      "image/png": "[encoded data removed]",
      "text/plain": [
       "<matplotlib.figure.Figure at 0x7f0fe5ff7a10>"
      ]
     },
     "metadata": {},
     "output_type": "display_data"
    }
   ],
   "source": [
    "data = df[df['name'].str.contains('Map')].groupby(['name', 'qps'])['duration'].mean().unstack().T\n",
    "data.plot.bar()"
   ]
  },
  {
   "cell_type": "code",
   "execution_count": 7,
   "metadata": {},
   "outputs": [
    {
     "data": {
      "text/html": [
       "<div>\n",
       "<style scoped>\n",
       "    .dataframe tbody tr th:only-of-type {\n",
       "        vertical-align: middle;\n",
       "    }\n",
       "\n",
       "    .dataframe tbody tr th {\n",
       "        vertical-align: top;\n",
       "    }\n",
       "\n",
       "    .dataframe thead th {\n",
       "        text-align: right;\n",
       "    }\n",
       "</style>\n",
       "<table border=\"1\" class=\"dataframe\">\n",
       "  <thead>\n",
       "    <tr style=\"text-align: right;\">\n",
       "      <th>name</th>\n",
       "      <th>read</th>\n",
       "      <th>readMap</th>\n",
       "    </tr>\n",
       "    <tr>\n",
       "      <th>qps</th>\n",
       "      <th></th>\n",
       "      <th></th>\n",
       "    </tr>\n",
       "  </thead>\n",
       "  <tbody>\n",
       "    <tr>\n",
       "      <th>10</th>\n",
       "      <td>3.078826e+06</td>\n",
       "      <td>4.904114e+09</td>\n",
       "    </tr>\n",
       "    <tr>\n",
       "      <th>33</th>\n",
       "      <td>2.446885e+06</td>\n",
       "      <td>4.975042e+09</td>\n",
       "    </tr>\n",
       "    <tr>\n",
       "      <th>100</th>\n",
       "      <td>1.665275e+06</td>\n",
       "      <td>4.998761e+09</td>\n",
       "    </tr>\n",
       "    <tr>\n",
       "      <th>333</th>\n",
       "      <td>1.509037e+06</td>\n",
       "      <td>5.008579e+09</td>\n",
       "    </tr>\n",
       "    <tr>\n",
       "      <th>1000</th>\n",
       "      <td>1.849980e+06</td>\n",
       "      <td>5.022172e+09</td>\n",
       "    </tr>\n",
       "    <tr>\n",
       "      <th>3333</th>\n",
       "      <td>5.061691e+09</td>\n",
       "      <td>1.125862e+10</td>\n",
       "    </tr>\n",
       "    <tr>\n",
       "      <th>10000</th>\n",
       "      <td>1.844436e+10</td>\n",
       "      <td>4.421048e+10</td>\n",
       "    </tr>\n",
       "  </tbody>\n",
       "</table>\n",
       "</div>"
      ],
      "text/plain": [
       "name           read       readMap\n",
       "qps                              \n",
       "10     3.078826e+06  4.904114e+09\n",
       "33     2.446885e+06  4.975042e+09\n",
       "100    1.665275e+06  4.998761e+09\n",
       "333    1.509037e+06  5.008579e+09\n",
       "1000   1.849980e+06  5.022172e+09\n",
       "3333   5.061691e+09  1.125862e+10\n",
       "10000  1.844436e+10  4.421048e+10"
      ]
     },
     "execution_count": 7,
     "metadata": {},
     "output_type": "execute_result"
    }
   ],
   "source": [
    "data = df[df['name'].str.contains('read')].groupby(['name', 'qps'])['duration'].mean().unstack().T\n",
    "data"
   ]
  }
 ],
 "metadata": {
  "kernelspec": {
   "display_name": "Python 2",
   "language": "python",
   "name": "python2"
  },
  "language_info": {
   "codemirror_mode": {
    "name": "ipython",
    "version": 2
   },
   "file_extension": ".py",
   "mimetype": "text/x-python",
   "name": "python",
   "nbconvert_exporter": "python",
   "pygments_lexer": "ipython2",
   "version": "2.7.14"
  }
 },
 "nbformat": 4,
 "nbformat_minor": 2
}
