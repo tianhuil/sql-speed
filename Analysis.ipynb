{
 "cells": [
  {
   "cell_type": "code",
   "execution_count": 1,
   "metadata": {
    "collapsed": true
   },
   "outputs": [],
   "source": [
    "% matplotlib inline\n",
    "\n",
    "import numpy as np\n",
    "import pandas as pd\n",
    "import matplotlib"
   ]
  },
  {
   "cell_type": "code",
   "execution_count": 2,
   "metadata": {
    "collapsed": true
   },
   "outputs": [],
   "source": [
    "matplotlib.rcParams['figure.figsize'] = 12, 6"
   ]
  },
  {
   "cell_type": "code",
   "execution_count": 3,
   "metadata": {
    "collapsed": true
   },
   "outputs": [],
   "source": [
    "df = pd.read_json(\"results/data-2019-08-21.json\")"
   ]
  },
  {
   "cell_type": "code",
   "execution_count": 4,
   "metadata": {},
   "outputs": [
    {
     "data": {
      "text/html": [
       "<div>\n",
       "<style scoped>\n",
       "    .dataframe tbody tr th:only-of-type {\n",
       "        vertical-align: middle;\n",
       "    }\n",
       "\n",
       "    .dataframe tbody tr th {\n",
       "        vertical-align: top;\n",
       "    }\n",
       "\n",
       "    .dataframe thead th {\n",
       "        text-align: right;\n",
       "    }\n",
       "</style>\n",
       "<table border=\"1\" class=\"dataframe\">\n",
       "  <thead>\n",
       "    <tr style=\"text-align: right;\">\n",
       "      <th></th>\n",
       "      <th>duration</th>\n",
       "      <th>i</th>\n",
       "      <th>name</th>\n",
       "      <th>qps</th>\n",
       "    </tr>\n",
       "  </thead>\n",
       "  <tbody>\n",
       "    <tr>\n",
       "      <th>9668</th>\n",
       "      <td>41578644</td>\n",
       "      <td>132.0</td>\n",
       "      <td>create</td>\n",
       "      <td>1000</td>\n",
       "    </tr>\n",
       "    <tr>\n",
       "      <th>7733</th>\n",
       "      <td>150843</td>\n",
       "      <td>1529.0</td>\n",
       "      <td>update</td>\n",
       "      <td>333</td>\n",
       "    </tr>\n",
       "    <tr>\n",
       "      <th>18561</th>\n",
       "      <td>2001380</td>\n",
       "      <td>4024.0</td>\n",
       "      <td>read</td>\n",
       "      <td>1000</td>\n",
       "    </tr>\n",
       "    <tr>\n",
       "      <th>9293</th>\n",
       "      <td>1089930</td>\n",
       "      <td>1423.0</td>\n",
       "      <td>delete</td>\n",
       "      <td>333</td>\n",
       "    </tr>\n",
       "    <tr>\n",
       "      <th>11118</th>\n",
       "      <td>2327850</td>\n",
       "      <td>1582.0</td>\n",
       "      <td>create</td>\n",
       "      <td>1000</td>\n",
       "    </tr>\n",
       "    <tr>\n",
       "      <th>9071</th>\n",
       "      <td>2108641</td>\n",
       "      <td>1201.0</td>\n",
       "      <td>delete</td>\n",
       "      <td>333</td>\n",
       "    </tr>\n",
       "    <tr>\n",
       "      <th>14938</th>\n",
       "      <td>1821858</td>\n",
       "      <td>401.0</td>\n",
       "      <td>read</td>\n",
       "      <td>1000</td>\n",
       "    </tr>\n",
       "    <tr>\n",
       "      <th>24571</th>\n",
       "      <td>1159675</td>\n",
       "      <td>32.0</td>\n",
       "      <td>delete</td>\n",
       "      <td>1000</td>\n",
       "    </tr>\n",
       "    <tr>\n",
       "      <th>23518</th>\n",
       "      <td>122270</td>\n",
       "      <td>3980.0</td>\n",
       "      <td>update</td>\n",
       "      <td>1000</td>\n",
       "    </tr>\n",
       "    <tr>\n",
       "      <th>9423</th>\n",
       "      <td>991961</td>\n",
       "      <td>1553.0</td>\n",
       "      <td>delete</td>\n",
       "      <td>333</td>\n",
       "    </tr>\n",
       "    <tr>\n",
       "      <th>24853</th>\n",
       "      <td>1820535</td>\n",
       "      <td>314.0</td>\n",
       "      <td>delete</td>\n",
       "      <td>1000</td>\n",
       "    </tr>\n",
       "    <tr>\n",
       "      <th>1246</th>\n",
       "      <td>2692455</td>\n",
       "      <td>378.0</td>\n",
       "      <td>create</td>\n",
       "      <td>100</td>\n",
       "    </tr>\n",
       "    <tr>\n",
       "      <th>11021</th>\n",
       "      <td>1519514</td>\n",
       "      <td>1485.0</td>\n",
       "      <td>create</td>\n",
       "      <td>1000</td>\n",
       "    </tr>\n",
       "    <tr>\n",
       "      <th>9798</th>\n",
       "      <td>2129405</td>\n",
       "      <td>262.0</td>\n",
       "      <td>create</td>\n",
       "      <td>1000</td>\n",
       "    </tr>\n",
       "    <tr>\n",
       "      <th>22284</th>\n",
       "      <td>139624</td>\n",
       "      <td>2746.0</td>\n",
       "      <td>update</td>\n",
       "      <td>1000</td>\n",
       "    </tr>\n",
       "    <tr>\n",
       "      <th>9100</th>\n",
       "      <td>2095053</td>\n",
       "      <td>1230.0</td>\n",
       "      <td>delete</td>\n",
       "      <td>333</td>\n",
       "    </tr>\n",
       "    <tr>\n",
       "      <th>22924</th>\n",
       "      <td>209642</td>\n",
       "      <td>3386.0</td>\n",
       "      <td>update</td>\n",
       "      <td>1000</td>\n",
       "    </tr>\n",
       "    <tr>\n",
       "      <th>7728</th>\n",
       "      <td>142244</td>\n",
       "      <td>1524.0</td>\n",
       "      <td>update</td>\n",
       "      <td>333</td>\n",
       "    </tr>\n",
       "    <tr>\n",
       "      <th>20403</th>\n",
       "      <td>181724</td>\n",
       "      <td>865.0</td>\n",
       "      <td>update</td>\n",
       "      <td>1000</td>\n",
       "    </tr>\n",
       "    <tr>\n",
       "      <th>12978</th>\n",
       "      <td>2376324</td>\n",
       "      <td>3442.0</td>\n",
       "      <td>create</td>\n",
       "      <td>1000</td>\n",
       "    </tr>\n",
       "  </tbody>\n",
       "</table>\n",
       "</div>"
      ],
      "text/plain": [
       "       duration       i    name   qps\n",
       "9668   41578644   132.0  create  1000\n",
       "7733     150843  1529.0  update   333\n",
       "18561   2001380  4024.0    read  1000\n",
       "9293    1089930  1423.0  delete   333\n",
       "11118   2327850  1582.0  create  1000\n",
       "9071    2108641  1201.0  delete   333\n",
       "14938   1821858   401.0    read  1000\n",
       "24571   1159675    32.0  delete  1000\n",
       "23518    122270  3980.0  update  1000\n",
       "9423     991961  1553.0  delete   333\n",
       "24853   1820535   314.0  delete  1000\n",
       "1246    2692455   378.0  create   100\n",
       "11021   1519514  1485.0  create  1000\n",
       "9798    2129405   262.0  create  1000\n",
       "22284    139624  2746.0  update  1000\n",
       "9100    2095053  1230.0  delete   333\n",
       "22924    209642  3386.0  update  1000\n",
       "7728     142244  1524.0  update   333\n",
       "20403    181724   865.0  update  1000\n",
       "12978   2376324  3442.0  create  1000"
      ]
     },
     "execution_count": 4,
     "metadata": {},
     "output_type": "execute_result"
    }
   ],
   "source": [
    "df.sample(n=20, random_state=42)"
   ]
  },
  {
   "cell_type": "code",
   "execution_count": 5,
   "metadata": {},
   "outputs": [
    {
     "data": {
      "text/plain": [
       "<matplotlib.axes._subplots.AxesSubplot at 0x7f6f50425a10>"
      ]
     },
     "execution_count": 5,
     "metadata": {},
     "output_type": "execute_result"
    },
    {
     "data": {
      "image/png": "[encoded data removed]",
      "text/plain": [
       "<matplotlib.figure.Figure at 0x7f6f5207c610>"
      ]
     },
     "metadata": {},
     "output_type": "display_data"
    }
   ],
   "source": [
    "data = df[~df['name'].str.contains('Map')].groupby(['name', 'qps'])['duration'].mean().unstack().T\n",
    "data.plot.bar()"
   ]
  },
  {
   "cell_type": "code",
   "execution_count": 6,
   "metadata": {},
   "outputs": [
    {
     "data": {
      "text/plain": [
       "<matplotlib.axes._subplots.AxesSubplot at 0x7f6f5159f250>"
      ]
     },
     "execution_count": 6,
     "metadata": {},
     "output_type": "execute_result"
    },
    {
     "data": {
      "image/png": "[encoded data removed]",
      "text/plain": [
       "<matplotlib.figure.Figure at 0x7f6f786259d0>"
      ]
     },
     "metadata": {},
     "output_type": "display_data"
    }
   ],
   "source": [
    "data = df[df['name'].str.contains('Map')].groupby(['name', 'qps'])['duration'].mean().unstack().T\n",
    "data.plot.bar()"
   ]
  },
  {
   "cell_type": "code",
   "execution_count": 7,
   "metadata": {},
   "outputs": [
    {
     "data": {
      "text/html": [
       "<div>\n",
       "<style scoped>\n",
       "    .dataframe tbody tr th:only-of-type {\n",
       "        vertical-align: middle;\n",
       "    }\n",
       "\n",
       "    .dataframe tbody tr th {\n",
       "        vertical-align: top;\n",
       "    }\n",
       "\n",
       "    .dataframe thead th {\n",
       "        text-align: right;\n",
       "    }\n",
       "</style>\n",
       "<table border=\"1\" class=\"dataframe\">\n",
       "  <thead>\n",
       "    <tr style=\"text-align: right;\">\n",
       "      <th>name</th>\n",
       "      <th>read</th>\n",
       "      <th>readMap</th>\n",
       "    </tr>\n",
       "    <tr>\n",
       "      <th>qps</th>\n",
       "      <th></th>\n",
       "      <th></th>\n",
       "    </tr>\n",
       "  </thead>\n",
       "  <tbody>\n",
       "    <tr>\n",
       "      <th>10</th>\n",
       "      <td>3.023823e+06</td>\n",
       "      <td>4.903221e+09</td>\n",
       "    </tr>\n",
       "    <tr>\n",
       "      <th>33</th>\n",
       "      <td>2.071920e+06</td>\n",
       "      <td>4.973892e+09</td>\n",
       "    </tr>\n",
       "    <tr>\n",
       "      <th>100</th>\n",
       "      <td>1.610735e+06</td>\n",
       "      <td>4.996971e+09</td>\n",
       "    </tr>\n",
       "    <tr>\n",
       "      <th>333</th>\n",
       "      <td>1.460003e+06</td>\n",
       "      <td>5.012074e+09</td>\n",
       "    </tr>\n",
       "    <tr>\n",
       "      <th>1000</th>\n",
       "      <td>1.847859e+06</td>\n",
       "      <td>5.018835e+09</td>\n",
       "    </tr>\n",
       "  </tbody>\n",
       "</table>\n",
       "</div>"
      ],
      "text/plain": [
       "name          read       readMap\n",
       "qps                             \n",
       "10    3.023823e+06  4.903221e+09\n",
       "33    2.071920e+06  4.973892e+09\n",
       "100   1.610735e+06  4.996971e+09\n",
       "333   1.460003e+06  5.012074e+09\n",
       "1000  1.847859e+06  5.018835e+09"
      ]
     },
     "execution_count": 7,
     "metadata": {},
     "output_type": "execute_result"
    }
   ],
   "source": [
    "data = df[df['name'].str.contains('read')].groupby(['name', 'qps'])['duration'].mean().unstack().T\n",
    "data"
   ]
  }
 ],
 "metadata": {
  "kernelspec": {
   "display_name": "Python 2",
   "language": "python",
   "name": "python2"
  },
  "language_info": {
   "codemirror_mode": {
    "name": "ipython",
    "version": 2
   },
   "file_extension": ".py",
   "mimetype": "text/x-python",
   "name": "python",
   "nbconvert_exporter": "python",
   "pygments_lexer": "ipython2",
   "version": "2.7.14"
  }
 },
 "nbformat": 4,
 "nbformat_minor": 2
}
