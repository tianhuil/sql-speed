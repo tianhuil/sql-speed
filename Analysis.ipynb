{
 "cells": [
  {
   "cell_type": "code",
   "execution_count": 1,
   "metadata": {
    "collapsed": true
   },
   "outputs": [],
   "source": [
    "% matplotlib inline\n",
    "\n",
    "import numpy as np\n",
    "import pandas as pd\n",
    "import matplotlib"
   ]
  },
  {
   "cell_type": "code",
   "execution_count": 2,
   "metadata": {
    "collapsed": true
   },
   "outputs": [],
   "source": [
    "matplotlib.rcParams['figure.figsize'] = 12, 6"
   ]
  },
  {
   "cell_type": "code",
   "execution_count": 3,
   "metadata": {
    "collapsed": true
   },
   "outputs": [],
   "source": [
    "df = pd.read_json(\"results/data-2019-08-20.json\")"
   ]
  },
  {
   "cell_type": "code",
   "execution_count": 4,
   "metadata": {},
   "outputs": [
    {
     "data": {
      "text/html": [
       "<div>\n",
       "<style scoped>\n",
       "    .dataframe tbody tr th:only-of-type {\n",
       "        vertical-align: middle;\n",
       "    }\n",
       "\n",
       "    .dataframe tbody tr th {\n",
       "        vertical-align: top;\n",
       "    }\n",
       "\n",
       "    .dataframe thead th {\n",
       "        text-align: right;\n",
       "    }\n",
       "</style>\n",
       "<table border=\"1\" class=\"dataframe\">\n",
       "  <thead>\n",
       "    <tr style=\"text-align: right;\">\n",
       "      <th></th>\n",
       "      <th>duration</th>\n",
       "      <th>i</th>\n",
       "      <th>n</th>\n",
       "      <th>name</th>\n",
       "    </tr>\n",
       "  </thead>\n",
       "  <tbody>\n",
       "    <tr>\n",
       "      <th>138024</th>\n",
       "      <td>2088699224</td>\n",
       "      <td>204.0</td>\n",
       "      <td>10000</td>\n",
       "      <td>create</td>\n",
       "    </tr>\n",
       "    <tr>\n",
       "      <th>1912765</th>\n",
       "      <td>492614417</td>\n",
       "      <td>709.0</td>\n",
       "      <td>1000</td>\n",
       "      <td>create</td>\n",
       "    </tr>\n",
       "    <tr>\n",
       "      <th>598350</th>\n",
       "      <td>2898355381</td>\n",
       "      <td>5969.0</td>\n",
       "      <td>10000</td>\n",
       "      <td>read</td>\n",
       "    </tr>\n",
       "    <tr>\n",
       "      <th>363267</th>\n",
       "      <td>2969697967</td>\n",
       "      <td>3167.0</td>\n",
       "      <td>10000</td>\n",
       "      <td>create</td>\n",
       "    </tr>\n",
       "    <tr>\n",
       "      <th>854460</th>\n",
       "      <td>3498432852</td>\n",
       "      <td>5344.0</td>\n",
       "      <td>10000</td>\n",
       "      <td>create</td>\n",
       "    </tr>\n",
       "    <tr>\n",
       "      <th>1252679</th>\n",
       "      <td>3342290609</td>\n",
       "      <td>3459.0</td>\n",
       "      <td>10000</td>\n",
       "      <td>create</td>\n",
       "    </tr>\n",
       "    <tr>\n",
       "      <th>2054075</th>\n",
       "      <td>3839769750</td>\n",
       "      <td>4647.0</td>\n",
       "      <td>10000</td>\n",
       "      <td>create</td>\n",
       "    </tr>\n",
       "    <tr>\n",
       "      <th>1433727</th>\n",
       "      <td>3970911717</td>\n",
       "      <td>6683.0</td>\n",
       "      <td>10000</td>\n",
       "      <td>create</td>\n",
       "    </tr>\n",
       "    <tr>\n",
       "      <th>1015903</th>\n",
       "      <td>1773150561</td>\n",
       "      <td>3416.0</td>\n",
       "      <td>10000</td>\n",
       "      <td>delete</td>\n",
       "    </tr>\n",
       "    <tr>\n",
       "      <th>908576</th>\n",
       "      <td>2647947388</td>\n",
       "      <td>5003.0</td>\n",
       "      <td>10000</td>\n",
       "      <td>read</td>\n",
       "    </tr>\n",
       "    <tr>\n",
       "      <th>2164287</th>\n",
       "      <td>514226612</td>\n",
       "      <td>5945.0</td>\n",
       "      <td>10000</td>\n",
       "      <td>update</td>\n",
       "    </tr>\n",
       "    <tr>\n",
       "      <th>701208</th>\n",
       "      <td>358731920</td>\n",
       "      <td>9914.0</td>\n",
       "      <td>10000</td>\n",
       "      <td>update</td>\n",
       "    </tr>\n",
       "    <tr>\n",
       "      <th>1836872</th>\n",
       "      <td>4772531155</td>\n",
       "      <td>9724.0</td>\n",
       "      <td>10000</td>\n",
       "      <td>create</td>\n",
       "    </tr>\n",
       "    <tr>\n",
       "      <th>1201261</th>\n",
       "      <td>374259158</td>\n",
       "      <td>501.0</td>\n",
       "      <td>1000</td>\n",
       "      <td>create</td>\n",
       "    </tr>\n",
       "    <tr>\n",
       "      <th>1712842</th>\n",
       "      <td>3645822134</td>\n",
       "      <td>9061.0</td>\n",
       "      <td>10000</td>\n",
       "      <td>read</td>\n",
       "    </tr>\n",
       "    <tr>\n",
       "      <th>694993</th>\n",
       "      <td>573451803</td>\n",
       "      <td>3699.0</td>\n",
       "      <td>10000</td>\n",
       "      <td>update</td>\n",
       "    </tr>\n",
       "    <tr>\n",
       "      <th>853716</th>\n",
       "      <td>3291587664</td>\n",
       "      <td>4600.0</td>\n",
       "      <td>10000</td>\n",
       "      <td>create</td>\n",
       "    </tr>\n",
       "    <tr>\n",
       "      <th>1888879</th>\n",
       "      <td>3185064723</td>\n",
       "      <td>7274.0</td>\n",
       "      <td>10000</td>\n",
       "      <td>read</td>\n",
       "    </tr>\n",
       "    <tr>\n",
       "      <th>1066174</th>\n",
       "      <td>3491157907</td>\n",
       "      <td>9231.0</td>\n",
       "      <td>10000</td>\n",
       "      <td>delete</td>\n",
       "    </tr>\n",
       "    <tr>\n",
       "      <th>96859</th>\n",
       "      <td>3104346219</td>\n",
       "      <td>3495.0</td>\n",
       "      <td>10000</td>\n",
       "      <td>create</td>\n",
       "    </tr>\n",
       "  </tbody>\n",
       "</table>\n",
       "</div>"
      ],
      "text/plain": [
       "           duration       i      n    name\n",
       "138024   2088699224   204.0  10000  create\n",
       "1912765   492614417   709.0   1000  create\n",
       "598350   2898355381  5969.0  10000    read\n",
       "363267   2969697967  3167.0  10000  create\n",
       "854460   3498432852  5344.0  10000  create\n",
       "1252679  3342290609  3459.0  10000  create\n",
       "2054075  3839769750  4647.0  10000  create\n",
       "1433727  3970911717  6683.0  10000  create\n",
       "1015903  1773150561  3416.0  10000  delete\n",
       "908576   2647947388  5003.0  10000    read\n",
       "2164287   514226612  5945.0  10000  update\n",
       "701208    358731920  9914.0  10000  update\n",
       "1836872  4772531155  9724.0  10000  create\n",
       "1201261   374259158   501.0   1000  create\n",
       "1712842  3645822134  9061.0  10000    read\n",
       "694993    573451803  3699.0  10000  update\n",
       "853716   3291587664  4600.0  10000  create\n",
       "1888879  3185064723  7274.0  10000    read\n",
       "1066174  3491157907  9231.0  10000  delete\n",
       "96859    3104346219  3495.0  10000  create"
      ]
     },
     "execution_count": 4,
     "metadata": {},
     "output_type": "execute_result"
    }
   ],
   "source": [
    "df.sample(n=20, random_state=42)"
   ]
  },
  {
   "cell_type": "code",
   "execution_count": 5,
   "metadata": {},
   "outputs": [
    {
     "data": {
      "text/plain": [
       "<matplotlib.axes._subplots.AxesSubplot at 0x7fac0ac06650>"
      ]
     },
     "execution_count": 5,
     "metadata": {},
     "output_type": "execute_result"
    },
    {
     "data": {
      "image/png": "[encoded data removed]",
      "text/plain": [
       "<matplotlib.figure.Figure at 0x7fac0abd4e10>"
      ]
     },
     "metadata": {},
     "output_type": "display_data"
    }
   ],
   "source": [
    "data = df[~df['name'].str.contains('Map')].groupby(['name', 'n'])['duration'].mean().unstack().T\n",
    "data.apply(np.log10).plot.bar()"
   ]
  },
  {
   "cell_type": "code",
   "execution_count": 6,
   "metadata": {},
   "outputs": [
    {
     "data": {
      "text/plain": [
       "<matplotlib.axes._subplots.AxesSubplot at 0x7fabc3683f10>"
      ]
     },
     "execution_count": 6,
     "metadata": {},
     "output_type": "execute_result"
    },
    {
     "data": {
      "image/png": "[encoded data removed]",
      "text/plain": [
       "<matplotlib.figure.Figure at 0x7fac055d0610>"
      ]
     },
     "metadata": {},
     "output_type": "display_data"
    }
   ],
   "source": [
    "data = df[df['name'].str.contains('Map')].groupby(['name', 'n'])['duration'].mean().unstack().T\n",
    "data.apply(np.log10).plot.bar()"
   ]
  },
  {
   "cell_type": "code",
   "execution_count": 7,
   "metadata": {},
   "outputs": [
    {
     "data": {
      "text/html": [
       "<div>\n",
       "<style scoped>\n",
       "    .dataframe tbody tr th:only-of-type {\n",
       "        vertical-align: middle;\n",
       "    }\n",
       "\n",
       "    .dataframe tbody tr th {\n",
       "        vertical-align: top;\n",
       "    }\n",
       "\n",
       "    .dataframe thead th {\n",
       "        text-align: right;\n",
       "    }\n",
       "</style>\n",
       "<table border=\"1\" class=\"dataframe\">\n",
       "  <thead>\n",
       "    <tr style=\"text-align: right;\">\n",
       "      <th>name</th>\n",
       "      <th>read</th>\n",
       "      <th>readMap</th>\n",
       "    </tr>\n",
       "    <tr>\n",
       "      <th>n</th>\n",
       "      <th></th>\n",
       "      <th></th>\n",
       "    </tr>\n",
       "  </thead>\n",
       "  <tbody>\n",
       "    <tr>\n",
       "      <th>10</th>\n",
       "      <td>3.532103e+06</td>\n",
       "      <td>4.393520e+06</td>\n",
       "    </tr>\n",
       "    <tr>\n",
       "      <th>100</th>\n",
       "      <td>2.011716e+07</td>\n",
       "      <td>2.889989e+07</td>\n",
       "    </tr>\n",
       "    <tr>\n",
       "      <th>1000</th>\n",
       "      <td>1.946289e+08</td>\n",
       "      <td>2.851548e+08</td>\n",
       "    </tr>\n",
       "    <tr>\n",
       "      <th>10000</th>\n",
       "      <td>2.585088e+09</td>\n",
       "      <td>4.295771e+09</td>\n",
       "    </tr>\n",
       "  </tbody>\n",
       "</table>\n",
       "</div>"
      ],
      "text/plain": [
       "name           read       readMap\n",
       "n                                \n",
       "10     3.532103e+06  4.393520e+06\n",
       "100    2.011716e+07  2.889989e+07\n",
       "1000   1.946289e+08  2.851548e+08\n",
       "10000  2.585088e+09  4.295771e+09"
      ]
     },
     "execution_count": 7,
     "metadata": {},
     "output_type": "execute_result"
    }
   ],
   "source": [
    "data = df[df['name'].str.contains('read')].groupby(['name', 'n'])['duration'].mean().unstack().T\n",
    "data"
   ]
  }
 ],
 "metadata": {
  "kernelspec": {
   "display_name": "Python 2",
   "language": "python",
   "name": "python2"
  },
  "language_info": {
   "codemirror_mode": {
    "name": "ipython",
    "version": 2
   },
   "file_extension": ".py",
   "mimetype": "text/x-python",
   "name": "python",
   "nbconvert_exporter": "python",
   "pygments_lexer": "ipython2",
   "version": "2.7.14"
  }
 },
 "nbformat": 4,
 "nbformat_minor": 2
}
